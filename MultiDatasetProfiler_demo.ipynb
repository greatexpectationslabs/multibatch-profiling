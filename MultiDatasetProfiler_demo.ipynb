{
 "cells": [
  {
   "cell_type": "markdown",
   "metadata": {},
   "source": [
    "### This notebook demos basic Profiling workflows in Great Expectations\n",
    "\n",
    "Please note that Profiling is still an experimental feature in GE."
   ]
  },
  {
   "cell_type": "code",
   "execution_count": 1,
   "metadata": {
    "collapsed": true,
    "jupyter": {
     "outputs_hidden": true
    }
   },
   "outputs": [
    {
     "name": "stdout",
     "output_type": "stream",
     "text": [
      "2020-04-07T11:15:19-0700 - INFO - Great Expectations logging enabled at 20 level by JupyterUX module.\n"
     ]
    }
   ],
   "source": [
    "import logging\n",
    "import glob\n",
    "import random\n",
    "import json\n",
    "\n",
    "import pandas as pd\n",
    "import pylab as plt\n",
    "from pylab import rcParams\n",
    "\n",
    "import great_expectations as ge\n",
    "from great_expectations.profile.multidataset_profiler import MultiDatasetProfiler\n",
    "from great_expectations.dataset import PandasDataset\n",
    "from great_expectations.jupyter_ux import (\n",
    "    setup_notebook_logging,\n",
    "    display_column_expectations_as_section,\n",
    "    display_profiled_column_evrs_as_section,\n",
    "    display_column_evrs_as_section,\n",
    "    display_evrs_as_section,\n",
    "    display_expectation_validation_metric_plot,\n",
    ")"
   ]
  },
  {
   "cell_type": "code",
   "execution_count": 2,
   "metadata": {
    "collapsed": true,
    "jupyter": {
     "outputs_hidden": true
    }
   },
   "outputs": [],
   "source": [
    "#Turn off logging, because we're in a notebook\n",
    "setup_notebook_logging(log_level=logging.WARNING)\n",
    "\n",
    "# Make plots wide and pretty\n",
    "rcParams['figure.figsize'] = 14, 4"
   ]
  },
  {
   "cell_type": "code",
   "execution_count": 3,
   "metadata": {
    "collapsed": true,
    "jupyter": {
     "outputs_hidden": true
    }
   },
   "outputs": [
    {
     "data": {
      "text/plain": [
       "(906, 7)"
      ]
     },
     "execution_count": 3,
     "metadata": {},
     "output_type": "execute_result"
    }
   ],
   "source": [
    "# Load a sabermetric csv from 538\n",
    "# Original source: 538_data/data/mlb-allstar-teams/allstar_player_talent.csv\n",
    "\n",
    "df = ge.read_csv(\"data/foul-balls.csv\")\n",
    "df.shape"
   ]
  },
  {
   "cell_type": "code",
   "execution_count": 4,
   "metadata": {
    "collapsed": true,
    "jupyter": {
     "outputs_hidden": true
    }
   },
   "outputs": [
    {
     "data": {
      "text/html": [
       "<div>\n",
       "<style scoped>\n",
       "    .dataframe tbody tr th:only-of-type {\n",
       "        vertical-align: middle;\n",
       "    }\n",
       "\n",
       "    .dataframe tbody tr th {\n",
       "        vertical-align: top;\n",
       "    }\n",
       "\n",
       "    .dataframe thead th {\n",
       "        text-align: right;\n",
       "    }\n",
       "</style>\n",
       "<table border=\"1\" class=\"dataframe\">\n",
       "  <thead>\n",
       "    <tr style=\"text-align: right;\">\n",
       "      <th></th>\n",
       "      <th>matchup</th>\n",
       "      <th>game_date</th>\n",
       "      <th>type_of_hit</th>\n",
       "      <th>exit_velocity</th>\n",
       "      <th>predicted_zone</th>\n",
       "      <th>camera_zone</th>\n",
       "      <th>used_zone</th>\n",
       "    </tr>\n",
       "  </thead>\n",
       "  <tbody>\n",
       "    <tr>\n",
       "      <th>0</th>\n",
       "      <td>Seattle Mariners VS Minnesota Twins</td>\n",
       "      <td>2019-05-18</td>\n",
       "      <td>Ground</td>\n",
       "      <td>NaN</td>\n",
       "      <td>1</td>\n",
       "      <td>1.0</td>\n",
       "      <td>1</td>\n",
       "    </tr>\n",
       "    <tr>\n",
       "      <th>1</th>\n",
       "      <td>Seattle Mariners VS Minnesota Twins</td>\n",
       "      <td>2019-05-18</td>\n",
       "      <td>Fly</td>\n",
       "      <td>NaN</td>\n",
       "      <td>4</td>\n",
       "      <td>NaN</td>\n",
       "      <td>4</td>\n",
       "    </tr>\n",
       "    <tr>\n",
       "      <th>2</th>\n",
       "      <td>Seattle Mariners VS Minnesota Twins</td>\n",
       "      <td>2019-05-18</td>\n",
       "      <td>Fly</td>\n",
       "      <td>56.9</td>\n",
       "      <td>4</td>\n",
       "      <td>NaN</td>\n",
       "      <td>4</td>\n",
       "    </tr>\n",
       "    <tr>\n",
       "      <th>3</th>\n",
       "      <td>Seattle Mariners VS Minnesota Twins</td>\n",
       "      <td>2019-05-18</td>\n",
       "      <td>Fly</td>\n",
       "      <td>78.8</td>\n",
       "      <td>1</td>\n",
       "      <td>1.0</td>\n",
       "      <td>1</td>\n",
       "    </tr>\n",
       "    <tr>\n",
       "      <th>4</th>\n",
       "      <td>Seattle Mariners VS Minnesota Twins</td>\n",
       "      <td>2019-05-18</td>\n",
       "      <td>Fly</td>\n",
       "      <td>NaN</td>\n",
       "      <td>2</td>\n",
       "      <td>NaN</td>\n",
       "      <td>2</td>\n",
       "    </tr>\n",
       "  </tbody>\n",
       "</table>\n",
       "</div>"
      ],
      "text/plain": [
       "                               matchup   game_date type_of_hit  exit_velocity  \\\n",
       "0  Seattle Mariners VS Minnesota Twins  2019-05-18      Ground            NaN   \n",
       "1  Seattle Mariners VS Minnesota Twins  2019-05-18         Fly            NaN   \n",
       "2  Seattle Mariners VS Minnesota Twins  2019-05-18         Fly           56.9   \n",
       "3  Seattle Mariners VS Minnesota Twins  2019-05-18         Fly           78.8   \n",
       "4  Seattle Mariners VS Minnesota Twins  2019-05-18         Fly            NaN   \n",
       "\n",
       "   predicted_zone  camera_zone  used_zone  \n",
       "0               1          1.0          1  \n",
       "1               4          NaN          4  \n",
       "2               4          NaN          4  \n",
       "3               1          1.0          1  \n",
       "4               2          NaN          2  "
      ]
     },
     "execution_count": 4,
     "metadata": {},
     "output_type": "execute_result"
    }
   ],
   "source": [
    "# Take a look at the data.\n",
    "\n",
    "df.head()"
   ]
  },
  {
   "cell_type": "code",
   "execution_count": 5,
   "metadata": {
    "collapsed": true,
    "jupyter": {
     "outputs_hidden": true
    }
   },
   "outputs": [
    {
     "data": {
      "text/plain": [
       "{\n",
       "  \"exception_info\": null,\n",
       "  \"success\": true,\n",
       "  \"meta\": {},\n",
       "  \"result\": {\n",
       "    \"element_count\": 906,\n",
       "    \"unexpected_count\": 326,\n",
       "    \"unexpected_percent\": 35.98233995584989,\n",
       "    \"partial_unexpected_list\": []\n",
       "  }\n",
       "}"
      ]
     },
     "execution_count": 5,
     "metadata": {},
     "output_type": "execute_result"
    }
   ],
   "source": [
    "# Let's build an expectation by hand\n",
    "\n",
    "df.expect_column_values_to_not_be_null(\"exit_velocity\", mostly=.6)"
   ]
  },
  {
   "cell_type": "code",
   "execution_count": 6,
   "metadata": {
    "collapsed": true,
    "jupyter": {
     "outputs_hidden": true
    }
   },
   "outputs": [],
   "source": [
    "# Split up the dataframe into 20 batches\n",
    "\n",
    "def split_dataframe_by_rows(df, k=5):\n",
    "    dataset_list = []\n",
    "    row_count = df.shape[0]\n",
    "    for i in range(k):\n",
    "        start_row, end_row = i*int(row_count/k), (i+1)*int(row_count/k)\n",
    "        dataset_list.append(df[start_row:end_row])\n",
    "        \n",
    "    return dataset_list\n",
    "\n",
    "dataset_list = split_dataframe_by_rows(df, 20)"
   ]
  },
  {
   "cell_type": "code",
   "execution_count": 7,
   "metadata": {
    "collapsed": true,
    "jupyter": {
     "outputs_hidden": true
    }
   },
   "outputs": [],
   "source": [
    "# Configure a profiler and a dummy \"store\" to retain result metadata\n",
    "\n",
    "validation_result_list = []\n",
    "my_profiler = MultiDatasetProfiler(\n",
    "    validation_result_store=validation_result_list,\n",
    "#     column_whitelist=[\"type_of_hit\"]\n",
    ")"
   ]
  },
  {
   "cell_type": "code",
   "execution_count": 8,
   "metadata": {
    "collapsed": true,
    "jupyter": {
     "outputs_hidden": true
    }
   },
   "outputs": [],
   "source": [
    "# Profile half of the batches. Hold the rest out for later testing\n",
    "\n",
    "profiled_expectation_suite = my_profiler.profile(dataset_list[10:])"
   ]
  },
  {
   "cell_type": "code",
   "execution_count": 9,
   "metadata": {
    "collapsed": true,
    "jupyter": {
     "outputs_hidden": true
    }
   },
   "outputs": [],
   "source": [
    "# Get validation results from one of the batches used for profiling\n",
    "\n",
    "first_validation_results = validation_result_list[0]"
   ]
  },
  {
   "cell_type": "code",
   "execution_count": 10,
   "metadata": {
    "collapsed": true,
    "jupyter": {
     "outputs_hidden": true
    }
   },
   "outputs": [],
   "source": [
    "# Pick a column\n",
    "\n",
    "# random_column = random.choice(df.columns)\n",
    "random_column = \"type_of_hit\""
   ]
  },
  {
   "cell_type": "code",
   "execution_count": 11,
   "metadata": {
    "collapsed": true,
    "jupyter": {
     "outputs_hidden": true
    }
   },
   "outputs": [
    {
     "data": {
      "text/html": [
       "<link rel=\"stylesheet\" href=\"https://stackpath.bootstrapcdn.com/bootstrap/4.3.1/css/bootstrap.min.css\" integrity=\"sha384-ggOyR0iXCbMQv3Xipma34MD+dH/1fQ784/j6cY/iJTQUOhcWr7x9JvoRxT2MZw1T\" crossorigin=\"anonymous\"><style type=\"text/css\">\n",
       ".cooltip {\n",
       "    display:inline-block;\n",
       "    position:relative;\n",
       "    text-align:left;\n",
       "}\n",
       "\n",
       ".cooltip .top {\n",
       "    min-width:200px; \n",
       "    top:-6px;\n",
       "    left:50%;\n",
       "    transform:translate(-50%, -100%);\n",
       "    padding:10px 20px;\n",
       "    color:#FFFFFF;\n",
       "    background-color:#222222;\n",
       "    font-weight:normal;\n",
       "    font-size:13px;\n",
       "    border-radius:8px;\n",
       "    position:absolute;\n",
       "    z-index:99999999;\n",
       "    box-sizing:border-box;\n",
       "    box-shadow:0 1px 8px rgba(0,0,0,0.5);\n",
       "    display:none;\n",
       "}\n",
       "\n",
       ".cooltip:hover .top {\n",
       "    display:block;\n",
       "}\n",
       "\n",
       ".cooltip .top i {\n",
       "    position:absolute;\n",
       "    top:100%;\n",
       "    left:50%;\n",
       "    margin-left:-12px;\n",
       "    width:24px;\n",
       "    height:12px;\n",
       "    overflow:hidden;\n",
       "}\n",
       "\n",
       ".cooltip .top i::after {\n",
       "    content:'';\n",
       "    position:absolute;\n",
       "    width:12px;\n",
       "    height:12px;\n",
       "    left:50%;\n",
       "    transform:translate(-50%,-50%) rotate(45deg);\n",
       "    background-color:#222222;\n",
       "    box-shadow:0 1px 8px rgba(0,0,0,0.5);\n",
       "}\n",
       "</style>\n",
       "<div id=\"section-1\" class=\"ge-section container-fluid mb-1 pb-1 pl-sm-3 px-0\">\n",
       "    <div class=\"row\" >\n",
       "        \n",
       "\n",
       "<div id=\"content-block-1\" class=\"col-12 p-0\" >\n",
       "\n",
       "    <div id=\"content-block-1-header\" class=\"alert alert-secondary\" >\n",
       "        <div>\n",
       "          \n",
       "                <h5 class=\"m-0 p-0 cooltip\" >\n",
       "                    type_of_hit\n",
       "                    <span class=top>\n",
       "                        expect_column_to_exist\n",
       "                    </span>\n",
       "                </h5>\n",
       "            \n",
       "        </div>\n",
       "      \n",
       "    \n",
       "        <div id=\"content-block-1-subheader\" >\n",
       "          \n",
       "                <h6 class=\"mt-1 mb-0 cooltip\" >\n",
       "                    Type: None\n",
       "                    <span class=top>\n",
       "                        expect_column_values_to_be_of_type <br>expect_column_values_to_be_in_type_list\n",
       "                    </span>\n",
       "                </h6>\n",
       "            \n",
       "        </div>\n",
       "      \n",
       "    </div>\n",
       "\n",
       "</div>\n",
       "        \n",
       "\n",
       "<div id=\"content-block-2\" class=\"col-3 mt-1 pl-1 pr-1\" >\n",
       "\n",
       "    <div id=\"content-block-2-header\" >\n",
       "        \n",
       "          \n",
       "            <div>\n",
       "              \n",
       "                <h6 >\n",
       "                    Properties\n",
       "                </h6>\n",
       "            \n",
       "            </div>\n",
       "          \n",
       "        </div>\n",
       "\n",
       "\n",
       "<table id=\"content-block-2-body\" class=\"table table-sm table-unbordered\" style=\"width:100%;\" >\n",
       "    \n",
       "\n",
       "    <tr>\n",
       "        <td id=\"content-block-2-cell-1-1\" ><div class=\"show-scrollbars\">\n",
       "                <span class=\"cooltip\" >\n",
       "                    Distinct (n)\n",
       "                    <span class=top>\n",
       "                        expect_column_unique_value_count_to_be_between\n",
       "                    </span>\n",
       "                </span>\n",
       "            </div></td><td id=\"content-block-2-cell-1-2\" ><div class=\"show-scrollbars\">4</div></td></tr><tr>\n",
       "        <td id=\"content-block-2-cell-2-1\" ><div class=\"show-scrollbars\">\n",
       "                <span class=\"cooltip\" >\n",
       "                    Distinct (%)\n",
       "                    <span class=top>\n",
       "                        expect_column_proportion_of_unique_values_to_be_between\n",
       "                    </span>\n",
       "                </span>\n",
       "            </div></td><td id=\"content-block-2-cell-2-2\" ><div class=\"show-scrollbars\"><span>8.9%</span></div></td></tr><tr>\n",
       "        <td id=\"content-block-2-cell-3-1\" ><div class=\"show-scrollbars\">\n",
       "                <span class=\"cooltip\" >\n",
       "                    Missing (n)\n",
       "                    <span class=top>\n",
       "                        expect_column_values_to_not_be_null\n",
       "                    </span>\n",
       "                </span>\n",
       "            </div></td><td id=\"content-block-2-cell-3-2\" ><div class=\"show-scrollbars\">0</div></td></tr><tr>\n",
       "        <td id=\"content-block-2-cell-4-1\" ><div class=\"show-scrollbars\">\n",
       "                <span class=\"cooltip\" >\n",
       "                    Missing (%)\n",
       "                    <span class=top>\n",
       "                        expect_column_values_to_not_be_null\n",
       "                    </span>\n",
       "                </span>\n",
       "            </div></td><td id=\"content-block-2-cell-4-2\" ><div class=\"show-scrollbars\"><span>0.0%</span></div></td></tr></table>\n",
       "\n",
       "</div>\n",
       "        \n",
       "\n",
       "<div id=\"content-block-3\" class=\"col-3 mt-1 pl-1 pr-1\" >\n",
       "\n",
       "    <div id=\"content-block-3-header\" >\n",
       "        \n",
       "          \n",
       "            <div>\n",
       "              \n",
       "                <h6 class=\"cooltip\" >\n",
       "                    Example Values\n",
       "                    <span class=top>\n",
       "                        expect_column_values_to_be_in_set\n",
       "                    </span>\n",
       "                </h6>\n",
       "            \n",
       "            </div>\n",
       "          \n",
       "        </div>\n",
       "\n",
       "\n",
       "<p id=\"content-block-3-body\" >\n",
       "    \n",
       "                <span >\n",
       "                    <span class=\"badge badge-info\" style=\"word-break:break-all;\" >Fly</span>\n",
       "                </span>\n",
       "            \n",
       "    \n",
       "                <span >\n",
       "                    <span class=\"badge badge-info\" style=\"word-break:break-all;\" >Line</span>\n",
       "                </span>\n",
       "            \n",
       "    \n",
       "                <span >\n",
       "                    <span class=\"badge badge-info\" style=\"word-break:break-all;\" >Fly</span>\n",
       "                </span>\n",
       "            \n",
       "    \n",
       "                <span >\n",
       "                    <span class=\"badge badge-info\" style=\"word-break:break-all;\" >Fly</span>\n",
       "                </span>\n",
       "            \n",
       "    \n",
       "                <span >\n",
       "                    <span class=\"badge badge-info\" style=\"word-break:break-all;\" >Fly</span>\n",
       "                </span>\n",
       "            \n",
       "    \n",
       "                <span >\n",
       "                    <span class=\"badge badge-info\" style=\"word-break:break-all;\" >Fly</span>\n",
       "                </span>\n",
       "            \n",
       "    \n",
       "                <span >\n",
       "                    <span class=\"badge badge-info\" style=\"word-break:break-all;\" >Fly</span>\n",
       "                </span>\n",
       "            \n",
       "    \n",
       "                <span >\n",
       "                    <span class=\"badge badge-info\" style=\"word-break:break-all;\" >Fly</span>\n",
       "                </span>\n",
       "            \n",
       "    \n",
       "                <span >\n",
       "                    <span class=\"badge badge-info\" style=\"word-break:break-all;\" >Ground</span>\n",
       "                </span>\n",
       "            \n",
       "    \n",
       "                <span >\n",
       "                    <span class=\"badge badge-info\" style=\"word-break:break-all;\" >Fly</span>\n",
       "                </span>\n",
       "            \n",
       "    \n",
       "                <span >\n",
       "                    <span class=\"badge badge-info\" style=\"word-break:break-all;\" >Ground</span>\n",
       "                </span>\n",
       "            \n",
       "    \n",
       "                <span >\n",
       "                    <span class=\"badge badge-info\" style=\"word-break:break-all;\" >Ground</span>\n",
       "                </span>\n",
       "            \n",
       "    \n",
       "                <span >\n",
       "                    <span class=\"badge badge-info\" style=\"word-break:break-all;\" >Ground</span>\n",
       "                </span>\n",
       "            \n",
       "    \n",
       "                <span >\n",
       "                    <span class=\"badge badge-info\" style=\"word-break:break-all;\" >Ground</span>\n",
       "                </span>\n",
       "            \n",
       "    \n",
       "                <span >\n",
       "                    <span class=\"badge badge-info\" style=\"word-break:break-all;\" >Ground</span>\n",
       "                </span>\n",
       "            \n",
       "    \n",
       "                <span >\n",
       "                    <span class=\"badge badge-info\" style=\"word-break:break-all;\" >Fly</span>\n",
       "                </span>\n",
       "            \n",
       "    \n",
       "                <span >\n",
       "                    <span class=\"badge badge-info\" style=\"word-break:break-all;\" >Ground</span>\n",
       "                </span>\n",
       "            \n",
       "    \n",
       "                <span >\n",
       "                    <span class=\"badge badge-info\" style=\"word-break:break-all;\" >Line</span>\n",
       "                </span>\n",
       "            \n",
       "    \n",
       "                <span >\n",
       "                    <span class=\"badge badge-info\" style=\"word-break:break-all;\" >Fly</span>\n",
       "                </span>\n",
       "            \n",
       "    \n",
       "                <span >\n",
       "                    <span class=\"badge badge-info\" style=\"word-break:break-all;\" >Ground</span>\n",
       "                </span>\n",
       "            \n",
       "    </p>\n",
       "\n",
       "</div>\n",
       "        \n",
       "    </div>\n",
       "</div>"
      ],
      "text/plain": [
       "<IPython.core.display.HTML object>"
      ]
     },
     "metadata": {},
     "output_type": "display_data"
    }
   ],
   "source": [
    "# Render the results, EDA-style\n",
    "\n",
    "display_profiled_column_evrs_as_section(\n",
    "    first_validation_results,\n",
    "    random_column,\n",
    ")"
   ]
  },
  {
   "cell_type": "code",
   "execution_count": 12,
   "metadata": {
    "collapsed": true,
    "jupyter": {
     "outputs_hidden": true
    }
   },
   "outputs": [
    {
     "data": {
      "text/html": [
       "<link rel=\"stylesheet\" href=\"https://stackpath.bootstrapcdn.com/bootstrap/4.3.1/css/bootstrap.min.css\" integrity=\"sha384-ggOyR0iXCbMQv3Xipma34MD+dH/1fQ784/j6cY/iJTQUOhcWr7x9JvoRxT2MZw1T\" crossorigin=\"anonymous\"><style type=\"text/css\">\n",
       ".cooltip {\n",
       "    display:inline-block;\n",
       "    position:relative;\n",
       "    text-align:left;\n",
       "}\n",
       "\n",
       ".cooltip .top {\n",
       "    min-width:200px; \n",
       "    top:-6px;\n",
       "    left:50%;\n",
       "    transform:translate(-50%, -100%);\n",
       "    padding:10px 20px;\n",
       "    color:#FFFFFF;\n",
       "    background-color:#222222;\n",
       "    font-weight:normal;\n",
       "    font-size:13px;\n",
       "    border-radius:8px;\n",
       "    position:absolute;\n",
       "    z-index:99999999;\n",
       "    box-sizing:border-box;\n",
       "    box-shadow:0 1px 8px rgba(0,0,0,0.5);\n",
       "    display:none;\n",
       "}\n",
       "\n",
       ".cooltip:hover .top {\n",
       "    display:block;\n",
       "}\n",
       "\n",
       ".cooltip .top i {\n",
       "    position:absolute;\n",
       "    top:100%;\n",
       "    left:50%;\n",
       "    margin-left:-12px;\n",
       "    width:24px;\n",
       "    height:12px;\n",
       "    overflow:hidden;\n",
       "}\n",
       "\n",
       ".cooltip .top i::after {\n",
       "    content:'';\n",
       "    position:absolute;\n",
       "    width:12px;\n",
       "    height:12px;\n",
       "    left:50%;\n",
       "    transform:translate(-50%,-50%) rotate(45deg);\n",
       "    background-color:#222222;\n",
       "    box-shadow:0 1px 8px rgba(0,0,0,0.5);\n",
       "}\n",
       "</style>\n",
       "<div id=\"section-1\" class=\"ge-section container-fluid mb-1 pb-1 pl-sm-3 px-0\">\n",
       "    <div class=\"row\" >\n",
       "        \n",
       "\n",
       "<div id=\"content-block-1\" class=\"col-12\" >\n",
       "\n",
       "    <div id=\"content-block-1-header\" class=\"alert alert-secondary\" >\n",
       "        <div>\n",
       "          \n",
       "                <h5 class=\"m-0\" >\n",
       "                    type_of_hit\n",
       "                </h5>\n",
       "            \n",
       "        </div>\n",
       "      \n",
       "    </div>\n",
       "\n",
       "</div>\n",
       "        \n",
       "\n",
       "<div id=\"content-block-2\" class=\"col-12\" >\n",
       "\n",
       "    \n",
       "\n",
       "<ul id=\"content-block-2-body\" >\n",
       "    \n",
       "            \n",
       "        \n",
       "        <li >\n",
       "                <span >\n",
       "                    must have between <span class=\"badge badge-secondary\" >3</span> and <span class=\"badge badge-secondary\" >5</span> unique values.\n",
       "                </span>\n",
       "            </li>\n",
       "    \n",
       "            \n",
       "        \n",
       "        <li style=\"list-style-type:none;\" >\n",
       "                <hr class=\"mt-1 mb-1\" >\n",
       "                    \n",
       "                </hr>\n",
       "            </li>\n",
       "    \n",
       "            \n",
       "        \n",
       "        <li >\n",
       "                <span >\n",
       "                    fraction of unique values must be between <span class=\"badge badge-secondary\" >0.06666666666666667</span> and <span class=\"badge badge-secondary\" >0.1111111111111111</span>.\n",
       "                </span>\n",
       "            </li>\n",
       "    \n",
       "            \n",
       "        \n",
       "        <li style=\"list-style-type:none;\" >\n",
       "                <hr class=\"mt-1 mb-1\" >\n",
       "                    \n",
       "                </hr>\n",
       "            </li>\n",
       "    \n",
       "            \n",
       "        \n",
       "        <li >\n",
       "                <span >\n",
       "                    values must never be null.\n",
       "                </span>\n",
       "            </li>\n",
       "    \n",
       "            \n",
       "        \n",
       "        <li style=\"list-style-type:none;\" >\n",
       "                <hr class=\"mt-1 mb-1\" >\n",
       "                    \n",
       "                </hr>\n",
       "            </li>\n",
       "    \n",
       "            \n",
       "        \n",
       "        <li >\n",
       "                <span >\n",
       "                    values must belong to this set: <span class=\"badge badge-secondary\" >Fly</span> <span class=\"badge badge-secondary\" >Batter hits self</span> <span class=\"badge badge-secondary\" >Line</span> <span class=\"badge badge-secondary\" >Pop Up</span> <span class=\"badge badge-secondary\" >Ground</span>.\n",
       "                </span>\n",
       "            </li>\n",
       "    \n",
       "            \n",
       "        \n",
       "        <li style=\"list-style-type:none;\" >\n",
       "                <hr class=\"mt-1 mb-1\" >\n",
       "                    \n",
       "                </hr>\n",
       "            </li>\n",
       "    \n",
       "            \n",
       "        \n",
       "        <li >\n",
       "                <span >\n",
       "                    values must not match this regular expression: <span class=\"badge badge-secondary\" >^\\s+|\\s+$</span>.\n",
       "                </span>\n",
       "            </li>\n",
       "    \n",
       "            \n",
       "        \n",
       "        <li style=\"list-style-type:none;\" >\n",
       "                <hr class=\"mt-1 mb-1\" >\n",
       "                    \n",
       "                </hr>\n",
       "            </li>\n",
       "    \n",
       "</ul>\n",
       "\n",
       "</div>\n",
       "        \n",
       "    </div>\n",
       "</div>"
      ],
      "text/plain": [
       "<IPython.core.display.HTML object>"
      ]
     },
     "metadata": {},
     "output_type": "display_data"
    }
   ],
   "source": [
    "# Render the profiled expectations that support the EDA\n",
    "\n",
    "display_column_expectations_as_section(\n",
    "    profiled_expectation_suite,\n",
    "    random_column,\n",
    ")"
   ]
  },
  {
   "cell_type": "code",
   "execution_count": 13,
   "metadata": {
    "collapsed": true,
    "jupyter": {
     "outputs_hidden": true
    }
   },
   "outputs": [],
   "source": [
    "# Fetch a fresh batch and validate it\n",
    "\n",
    "new_batch = PandasDataset(\n",
    "    dataset_list[1],\n",
    "    expectation_suite=profiled_expectation_suite\n",
    ")"
   ]
  },
  {
   "cell_type": "code",
   "execution_count": 14,
   "metadata": {
    "collapsed": true,
    "jupyter": {
     "outputs_hidden": true
    }
   },
   "outputs": [
    {
     "data": {
      "text/html": [
       "<link rel=\"stylesheet\" href=\"https://stackpath.bootstrapcdn.com/bootstrap/4.3.1/css/bootstrap.min.css\" integrity=\"sha384-ggOyR0iXCbMQv3Xipma34MD+dH/1fQ784/j6cY/iJTQUOhcWr7x9JvoRxT2MZw1T\" crossorigin=\"anonymous\"><style type=\"text/css\">\n",
       ".cooltip {\n",
       "    display:inline-block;\n",
       "    position:relative;\n",
       "    text-align:left;\n",
       "}\n",
       "\n",
       ".cooltip .top {\n",
       "    min-width:200px; \n",
       "    top:-6px;\n",
       "    left:50%;\n",
       "    transform:translate(-50%, -100%);\n",
       "    padding:10px 20px;\n",
       "    color:#FFFFFF;\n",
       "    background-color:#222222;\n",
       "    font-weight:normal;\n",
       "    font-size:13px;\n",
       "    border-radius:8px;\n",
       "    position:absolute;\n",
       "    z-index:99999999;\n",
       "    box-sizing:border-box;\n",
       "    box-shadow:0 1px 8px rgba(0,0,0,0.5);\n",
       "    display:none;\n",
       "}\n",
       "\n",
       ".cooltip:hover .top {\n",
       "    display:block;\n",
       "}\n",
       "\n",
       ".cooltip .top i {\n",
       "    position:absolute;\n",
       "    top:100%;\n",
       "    left:50%;\n",
       "    margin-left:-12px;\n",
       "    width:24px;\n",
       "    height:12px;\n",
       "    overflow:hidden;\n",
       "}\n",
       "\n",
       ".cooltip .top i::after {\n",
       "    content:'';\n",
       "    position:absolute;\n",
       "    width:12px;\n",
       "    height:12px;\n",
       "    left:50%;\n",
       "    transform:translate(-50%,-50%) rotate(45deg);\n",
       "    background-color:#222222;\n",
       "    box-shadow:0 1px 8px rgba(0,0,0,0.5);\n",
       "}\n",
       "</style>\n",
       "<div id=\"section-1\" class=\"ge-section container-fluid mb-1 pb-1 pl-sm-3 px-0\">\n",
       "    <div class=\"row\" >\n",
       "        \n",
       "\n",
       "<div id=\"content-block-1\" class=\"col-12 p-0\" >\n",
       "\n",
       "    <div id=\"content-block-1-header\" class=\"alert alert-secondary\" >\n",
       "        <div>\n",
       "          \n",
       "                <h5 class=\"m-0\" >\n",
       "                    type_of_hit\n",
       "                </h5>\n",
       "            \n",
       "        </div>\n",
       "      \n",
       "    </div>\n",
       "\n",
       "</div>\n",
       "        \n",
       "\n",
       "<div id=\"content-block-2\" class=\"ml-2 mr-2 mt-0 mb-0 table-responsive hide-succeeded-validations-column-section-target-child\" >\n",
       "\n",
       "    \n",
       "\n",
       "<table id=\"content-block-2-body\" class=\"table\" >\n",
       "    \n",
       "        <tr>\n",
       "            \n",
       "                <th><span>Status</span></th>\n",
       "            \n",
       "                <th><span>Expectation</span></th>\n",
       "            \n",
       "                <th><span>Observed Value</span></th>\n",
       "            \n",
       "        </tr>\n",
       "    \n",
       "\n",
       "    <tr>\n",
       "        <td id=\"content-block-2-cell-1-1\" class=\"hide-succeeded-validation-target-child\" ><div class=\"show-scrollbars\">\n",
       "                <span >\n",
       "                    <i class=\"fas fa-check-circle text-success\" ></i>\n",
       "                </span>\n",
       "            </div></td><td id=\"content-block-2-cell-1-2\" ><div class=\"show-scrollbars\">\n",
       "                <span >\n",
       "                    must have between <span class=\"badge badge-secondary\" >3</span> and <span class=\"badge badge-secondary\" >5</span> unique values.\n",
       "                </span>\n",
       "            </div></td><td id=\"content-block-2-cell-1-3\" ><div class=\"show-scrollbars\"><span>5</span></div></td></tr><tr>\n",
       "        <td id=\"content-block-2-cell-2-1\" class=\"hide-succeeded-validation-target-child\" ><div class=\"show-scrollbars\">\n",
       "                <span >\n",
       "                    <i class=\"fas fa-check-circle text-success\" ></i>\n",
       "                </span>\n",
       "            </div></td><td id=\"content-block-2-cell-2-2\" ><div class=\"show-scrollbars\">\n",
       "                <span >\n",
       "                    fraction of unique values must be between <span class=\"badge badge-secondary\" >0.06666666666666667</span> and <span class=\"badge badge-secondary\" >0.1111111111111111</span>.\n",
       "                </span>\n",
       "            </div></td><td id=\"content-block-2-cell-2-3\" ><div class=\"show-scrollbars\"><span>≈0.1111111111</span></div></td></tr><tr>\n",
       "        <td id=\"content-block-2-cell-3-1\" class=\"hide-succeeded-validation-target-child\" ><div class=\"show-scrollbars\">\n",
       "                <span >\n",
       "                    <i class=\"fas fa-check-circle text-success\" ></i>\n",
       "                </span>\n",
       "            </div></td><td id=\"content-block-2-cell-3-2\" ><div class=\"show-scrollbars\">\n",
       "                <span >\n",
       "                    values must never be null.\n",
       "                </span>\n",
       "            </div></td><td id=\"content-block-2-cell-3-3\" ><div class=\"show-scrollbars\"><span>100% not null</span></div></td></tr><tr>\n",
       "        <td id=\"content-block-2-cell-4-1\" class=\"hide-succeeded-validation-target-child\" ><div class=\"show-scrollbars\">\n",
       "                <span >\n",
       "                    <i class=\"fas fa-check-circle text-success\" ></i>\n",
       "                </span>\n",
       "            </div></td><td id=\"content-block-2-cell-4-2\" ><div class=\"show-scrollbars\">\n",
       "                <span >\n",
       "                    values must belong to this set: <span class=\"badge badge-secondary\" >Fly</span> <span class=\"badge badge-secondary\" >Batter hits self</span> <span class=\"badge badge-secondary\" >Line</span> <span class=\"badge badge-secondary\" >Pop Up</span> <span class=\"badge badge-secondary\" >Ground</span>.\n",
       "                </span>\n",
       "            </div></td><td id=\"content-block-2-cell-4-3\" ><div class=\"show-scrollbars\"><span>0% unexpected</span></div></td></tr><tr>\n",
       "        <td id=\"content-block-2-cell-5-1\" class=\"hide-succeeded-validation-target-child\" ><div class=\"show-scrollbars\">\n",
       "                <span >\n",
       "                    <i class=\"fas fa-check-circle text-success\" ></i>\n",
       "                </span>\n",
       "            </div></td><td id=\"content-block-2-cell-5-2\" ><div class=\"show-scrollbars\">\n",
       "                <span >\n",
       "                    values must not match this regular expression: <span class=\"badge badge-secondary\" >^\\s+|\\s+$</span>.\n",
       "                </span>\n",
       "            </div></td><td id=\"content-block-2-cell-5-3\" ><div class=\"show-scrollbars\"><span>0% unexpected</span></div></td></tr></table>\n",
       "\n",
       "</div>\n",
       "        \n",
       "    </div>\n",
       "</div>"
      ],
      "text/plain": [
       "<IPython.core.display.HTML object>"
      ]
     },
     "metadata": {},
     "output_type": "display_data"
    }
   ],
   "source": [
    "# Display validation results for the chosen column\n",
    "\n",
    "new_validation_results = new_batch.validate(result_format=\"SUMMARY\")\n",
    "\n",
    "display_column_evrs_as_section(\n",
    "    new_validation_results,\n",
    "    random_column,\n",
    "    include_styling=True\n",
    ")"
   ]
  },
  {
   "cell_type": "code",
   "execution_count": 15,
   "metadata": {
    "collapsed": true,
    "jupyter": {
     "outputs_hidden": true
    }
   },
   "outputs": [],
   "source": [
    "# Drop an expectation that we don't care about\n",
    "\n",
    "new_batch.remove_expectation(\n",
    "    expectation_type=\"expect_column_proportion_of_unique_values_to_be_between\",\n",
    "    column=random_column\n",
    ")"
   ]
  },
  {
   "cell_type": "code",
   "execution_count": 16,
   "metadata": {
    "collapsed": true,
    "jupyter": {
     "outputs_hidden": true
    }
   },
   "outputs": [
    {
     "data": {
      "text/html": [
       "<link rel=\"stylesheet\" href=\"https://stackpath.bootstrapcdn.com/bootstrap/4.3.1/css/bootstrap.min.css\" integrity=\"sha384-ggOyR0iXCbMQv3Xipma34MD+dH/1fQ784/j6cY/iJTQUOhcWr7x9JvoRxT2MZw1T\" crossorigin=\"anonymous\"><style type=\"text/css\">\n",
       ".cooltip {\n",
       "    display:inline-block;\n",
       "    position:relative;\n",
       "    text-align:left;\n",
       "}\n",
       "\n",
       ".cooltip .top {\n",
       "    min-width:200px; \n",
       "    top:-6px;\n",
       "    left:50%;\n",
       "    transform:translate(-50%, -100%);\n",
       "    padding:10px 20px;\n",
       "    color:#FFFFFF;\n",
       "    background-color:#222222;\n",
       "    font-weight:normal;\n",
       "    font-size:13px;\n",
       "    border-radius:8px;\n",
       "    position:absolute;\n",
       "    z-index:99999999;\n",
       "    box-sizing:border-box;\n",
       "    box-shadow:0 1px 8px rgba(0,0,0,0.5);\n",
       "    display:none;\n",
       "}\n",
       "\n",
       ".cooltip:hover .top {\n",
       "    display:block;\n",
       "}\n",
       "\n",
       ".cooltip .top i {\n",
       "    position:absolute;\n",
       "    top:100%;\n",
       "    left:50%;\n",
       "    margin-left:-12px;\n",
       "    width:24px;\n",
       "    height:12px;\n",
       "    overflow:hidden;\n",
       "}\n",
       "\n",
       ".cooltip .top i::after {\n",
       "    content:'';\n",
       "    position:absolute;\n",
       "    width:12px;\n",
       "    height:12px;\n",
       "    left:50%;\n",
       "    transform:translate(-50%,-50%) rotate(45deg);\n",
       "    background-color:#222222;\n",
       "    box-shadow:0 1px 8px rgba(0,0,0,0.5);\n",
       "}\n",
       "</style>\n",
       "<div id=\"section-1\" class=\"ge-section container-fluid mb-1 pb-1 pl-sm-3 px-0\">\n",
       "    <div class=\"row\" >\n",
       "        \n",
       "\n",
       "<div id=\"content-block-1\" class=\"ml-2 mr-2 mt-0 mb-0 table-responsive\" >\n",
       "\n",
       "    \n",
       "\n",
       "<table id=\"content-block-1-body\" class=\"table\" >\n",
       "    \n",
       "        <tr>\n",
       "            \n",
       "                <th><span>Status</span></th>\n",
       "            \n",
       "                <th><span>Expectation</span></th>\n",
       "            \n",
       "                <th><span>Observed Value</span></th>\n",
       "            \n",
       "        </tr>\n",
       "    \n",
       "\n",
       "    <tr>\n",
       "        <td id=\"content-block-1-cell-1-1\" ><div class=\"show-scrollbars\">\n",
       "                <span >\n",
       "                    <i class=\"fas fa-times text-danger\" ></i>\n",
       "                </span>\n",
       "            </div></td><td id=\"content-block-1-cell-1-2\" ><div class=\"show-scrollbars\">\n",
       "                <span >\n",
       "                    <span class=\"badge badge-primary\" >matchup</span> values must belong to this set: <span class=\"badge badge-secondary\" >Atlanta Braves vs New York Mets</span> <span class=\"badge badge-secondary\" >Los Angeles Dodgers vs Arizona Diamondsbacks</span> <span class=\"badge badge-secondary\" >Texas Rangers vs Toronto Blue Jays</span> <span class=\"badge badge-secondary\" >New York Yankees vs Baltimore Orioles</span> <span class=\"badge badge-secondary\" >Oakland A's vs Houston Astros</span> <span class=\"badge badge-secondary\" >Philadelphia Phillies vs Miami Marlins</span>.\n",
       "                </span>\n",
       "            \n",
       "                <strong class=\"text-danger\" >\n",
       "                    <br><br>45 unexpected values found. 100% of 45 total rows.\n",
       "                </strong>\n",
       "            \n",
       "\n",
       "<table id=\"content-block-1-body\" class=\"table-bordered table-sm mt-3\" >\n",
       "    \n",
       "        <tr>\n",
       "            \n",
       "                <th><span>Unexpected Value</span></th>\n",
       "            \n",
       "                <th><span>Count</span></th>\n",
       "            \n",
       "        </tr>\n",
       "    \n",
       "\n",
       "    <tr>\n",
       "        <td id=\"content-block-1-cell-1-1\" ><div class=\"show-scrollbars\"><span>Seattle Mariners VS Minnesota Twins</span></div></td><td id=\"content-block-1-cell-1-2\" ><div class=\"show-scrollbars\">45</div></td></tr></table></div></td><td id=\"content-block-1-cell-1-3\" ><div class=\"show-scrollbars\"><span>100% unexpected</span></div></td></tr><tr>\n",
       "        <td id=\"content-block-1-cell-2-1\" ><div class=\"show-scrollbars\">\n",
       "                <span >\n",
       "                    <i class=\"fas fa-times text-danger\" ></i>\n",
       "                </span>\n",
       "            </div></td><td id=\"content-block-1-cell-2-2\" ><div class=\"show-scrollbars\">\n",
       "                <span >\n",
       "                    <span class=\"badge badge-primary\" >game_date</span> values must belong to this set: <span class=\"badge badge-secondary\" >2019-04-14</span> <span class=\"badge badge-secondary\" >2019-06-02</span> <span class=\"badge badge-secondary\" >2019-03-31</span> <span class=\"badge badge-secondary\" >2019-05-03</span> <span class=\"badge badge-secondary\" >2019-03-29</span> <span class=\"badge badge-secondary\" >2019-04-27</span>.\n",
       "                </span>\n",
       "            \n",
       "                <strong class=\"text-danger\" >\n",
       "                    <br><br>45 unexpected values found. 100% of 45 total rows.\n",
       "                </strong>\n",
       "            \n",
       "\n",
       "<table id=\"content-block-1-body\" class=\"table-bordered table-sm mt-3\" >\n",
       "    \n",
       "        <tr>\n",
       "            \n",
       "                <th><span>Unexpected Value</span></th>\n",
       "            \n",
       "                <th><span>Count</span></th>\n",
       "            \n",
       "        </tr>\n",
       "    \n",
       "\n",
       "    <tr>\n",
       "        <td id=\"content-block-1-cell-1-1\" ><div class=\"show-scrollbars\"><span>2019-05-18</span></div></td><td id=\"content-block-1-cell-1-2\" ><div class=\"show-scrollbars\">45</div></td></tr></table></div></td><td id=\"content-block-1-cell-2-3\" ><div class=\"show-scrollbars\"><span>100% unexpected</span></div></td></tr><tr>\n",
       "        <td id=\"content-block-1-cell-3-1\" ><div class=\"show-scrollbars\">\n",
       "                <span >\n",
       "                    <i class=\"fas fa-times text-danger\" ></i>\n",
       "                </span>\n",
       "            </div></td><td id=\"content-block-1-cell-3-2\" ><div class=\"show-scrollbars\">\n",
       "                <span >\n",
       "                    <span class=\"badge badge-primary\" >exit_velocity</span> values must belong to this set: <span class=\"badge badge-secondary\" >25.4</span> <span class=\"badge badge-secondary\" >39.9</span> <span class=\"badge badge-secondary\" >47.3</span> <span class=\"badge badge-secondary\" >49.2</span> <span class=\"badge badge-secondary\" >53.2</span> <span class=\"badge badge-secondary\" >54.0</span> <span class=\"badge badge-secondary\" >55.5</span> <span class=\"badge badge-secondary\" >56.8</span> <span class=\"badge badge-secondary\" >58.9</span> <span class=\"badge badge-secondary\" >58.4</span> <span class=\"badge badge-secondary\" >60.8</span> <span class=\"badge badge-secondary\" >61.0</span> <span class=\"badge badge-secondary\" >62.5</span> <span class=\"badge badge-secondary\" >63.1</span> <span class=\"badge badge-secondary\" >64.0</span> <span class=\"badge badge-secondary\" >64.7</span> <span class=\"badge badge-secondary\" >66.4</span> <span class=\"badge badge-secondary\" >67.1</span> <span class=\"badge badge-secondary\" >67.6</span> <span class=\"badge badge-secondary\" >67.5</span> <span class=\"badge badge-secondary\" >68.9</span> <span class=\"badge badge-secondary\" >69.7</span> <span class=\"badge badge-secondary\" >68.0</span> <span class=\"badge badge-secondary\" >70.2</span> <span class=\"badge badge-secondary\" >72.0</span> <span class=\"badge badge-secondary\" >73.7</span> <span class=\"badge badge-secondary\" >74.9</span> <span class=\"badge badge-secondary\" >77.8</span> <span class=\"badge badge-secondary\" >77.4</span> <span class=\"badge badge-secondary\" >77.9</span> <span class=\"badge badge-secondary\" >77.1</span> <span class=\"badge badge-secondary\" >78.8</span> <span class=\"badge badge-secondary\" >78.0</span> <span class=\"badge badge-secondary\" >78.2</span> <span class=\"badge badge-secondary\" >79.0</span> <span class=\"badge badge-secondary\" >80.3</span> <span class=\"badge badge-secondary\" >81.3</span> <span class=\"badge badge-secondary\" >82.4</span> <span class=\"badge badge-secondary\" >84.6</span> <span class=\"badge badge-secondary\" >84.7</span> <span class=\"badge badge-secondary\" >86.1</span> <span class=\"badge badge-secondary\" >83.9</span> <span class=\"badge badge-secondary\" >92.7</span> <span class=\"badge badge-secondary\" >86.7</span> <span class=\"badge badge-secondary\" >87.1</span> <span class=\"badge badge-secondary\" >89.4</span> <span class=\"badge badge-secondary\" >91.9</span> <span class=\"badge badge-secondary\" >91.7</span> <span class=\"badge badge-secondary\" >94.4</span> <span class=\"badge badge-secondary\" >95.7</span> <span class=\"badge badge-secondary\" >95.9</span> <span class=\"badge badge-secondary\" >99.4</span> <span class=\"badge badge-secondary\" >100.7</span> <span class=\"badge badge-secondary\" >101.4</span> <span class=\"badge badge-secondary\" >103.0</span> <span class=\"badge badge-secondary\" >105.3</span> <span class=\"badge badge-secondary\" >101.7</span> <span class=\"badge badge-secondary\" >107.6</span> <span class=\"badge badge-secondary\" >100.0</span> <span class=\"badge badge-secondary\" >72.3</span> <span class=\"badge badge-secondary\" >76.7</span> <span class=\"badge badge-secondary\" >58.0</span> <span class=\"badge badge-secondary\" >59.4</span> <span class=\"badge badge-secondary\" >60.0</span> <span class=\"badge badge-secondary\" >60.6</span> <span class=\"badge badge-secondary\" >60.9</span> <span class=\"badge badge-secondary\" >61.7</span> <span class=\"badge badge-secondary\" >61.5</span> <span class=\"badge badge-secondary\" >62.7</span> <span class=\"badge badge-secondary\" >64.2</span> <span class=\"badge badge-secondary\" >65.3</span> <span class=\"badge badge-secondary\" >65.4</span> <span class=\"badge badge-secondary\" >65.1</span> <span class=\"badge badge-secondary\" >66.0</span> <span class=\"badge badge-secondary\" >67.9</span> <span class=\"badge badge-secondary\" >67.4</span> <span class=\"badge badge-secondary\" >68.7</span> <span class=\"badge badge-secondary\" >68.6</span> <span class=\"badge badge-secondary\" >68.1</span> <span class=\"badge badge-secondary\" >69.3</span> <span class=\"badge badge-secondary\" >69.5</span> <span class=\"badge badge-secondary\" >69.1</span> <span class=\"badge badge-secondary\" >69.8</span> <span class=\"badge badge-secondary\" >70.3</span> <span class=\"badge badge-secondary\" >70.9</span> <span class=\"badge badge-secondary\" >70.5</span> <span class=\"badge badge-secondary\" >70.4</span> <span class=\"badge badge-secondary\" >71.0</span> <span class=\"badge badge-secondary\" >71.3</span> <span class=\"badge badge-secondary\" >71.9</span> <span class=\"badge badge-secondary\" >71.4</span> <span class=\"badge badge-secondary\" >71.7</span> <span class=\"badge badge-secondary\" >72.4</span> <span class=\"badge badge-secondary\" >72.1</span> <span class=\"badge badge-secondary\" >72.8</span> <span class=\"badge badge-secondary\" >71.1</span> <span class=\"badge badge-secondary\" >72.7</span> <span class=\"badge badge-secondary\" >73.1</span> <span class=\"badge badge-secondary\" >73.9</span> <span class=\"badge badge-secondary\" >73.5</span> <span class=\"badge badge-secondary\" >73.2</span> <span class=\"badge badge-secondary\" >73.0</span> <span class=\"badge badge-secondary\" >74.4</span> <span class=\"badge badge-secondary\" >74.7</span> <span class=\"badge badge-secondary\" >74.2</span> <span class=\"badge badge-secondary\" >74.1</span> <span class=\"badge badge-secondary\" >74.5</span> <span class=\"badge badge-secondary\" >75.4</span> <span class=\"badge badge-secondary\" >75.3</span> <span class=\"badge badge-secondary\" >75.8</span> <span class=\"badge badge-secondary\" >75.9</span> <span class=\"badge badge-secondary\" >75.1</span> <span class=\"badge badge-secondary\" >76.9</span> <span class=\"badge badge-secondary\" >76.0</span> <span class=\"badge badge-secondary\" >76.1</span> <span class=\"badge badge-secondary\" >76.8</span> <span class=\"badge badge-secondary\" >76.4</span> <span class=\"badge badge-secondary\" >77.0</span> <span class=\"badge badge-secondary\" >77.5</span> <span class=\"badge badge-secondary\" >77.6</span> <span class=\"badge badge-secondary\" >76.6</span> <span class=\"badge badge-secondary\" >76.2</span> <span class=\"badge badge-secondary\" >78.1</span> <span class=\"badge badge-secondary\" >78.7</span> <span class=\"badge badge-secondary\" >78.3</span> <span class=\"badge badge-secondary\" >78.4</span> <span class=\"badge badge-secondary\" >78.9</span> <span class=\"badge badge-secondary\" >79.9</span> <span class=\"badge badge-secondary\" >79.1</span> <span class=\"badge badge-secondary\" >79.4</span> <span class=\"badge badge-secondary\" >79.8</span> <span class=\"badge badge-secondary\" >79.5</span> <span class=\"badge badge-secondary\" >80.7</span> <span class=\"badge badge-secondary\" >80.5</span> <span class=\"badge badge-secondary\" >80.9</span> <span class=\"badge badge-secondary\" >79.3</span> <span class=\"badge badge-secondary\" >81.1</span> <span class=\"badge badge-secondary\" >81.7</span> <span class=\"badge badge-secondary\" >81.4</span> <span class=\"badge badge-secondary\" >82.6</span> <span class=\"badge badge-secondary\" >82.0</span> <span class=\"badge badge-secondary\" >83.1</span> <span class=\"badge badge-secondary\" >83.0</span> <span class=\"badge badge-secondary\" >83.5</span> <span class=\"badge badge-secondary\" >84.1</span> <span class=\"badge badge-secondary\" >85.6</span> <span class=\"badge badge-secondary\" >85.0</span> <span class=\"badge badge-secondary\" >86.8</span> <span class=\"badge badge-secondary\" >87.8</span> <span class=\"badge badge-secondary\" >87.5</span> <span class=\"badge badge-secondary\" >88.2</span> <span class=\"badge badge-secondary\" >88.0</span> <span class=\"badge badge-secondary\" >89.7</span> <span class=\"badge badge-secondary\" >90.6</span> <span class=\"badge badge-secondary\" >90.7</span> <span class=\"badge badge-secondary\" >91.1</span> <span class=\"badge badge-secondary\" >91.5</span> <span class=\"badge badge-secondary\" >94.3</span> <span class=\"badge badge-secondary\" >76.3</span> <span class=\"badge badge-secondary\" >96.0</span> <span class=\"badge badge-secondary\" >96.5</span> <span class=\"badge badge-secondary\" >73.6</span>.\n",
       "                </span>\n",
       "            \n",
       "                <strong class=\"text-danger\" >\n",
       "                    <br><br>16 unexpected values found. ≈35.56% of 45 total rows.\n",
       "                </strong>\n",
       "            \n",
       "\n",
       "<table id=\"content-block-1-body\" class=\"table-bordered table-sm mt-3\" >\n",
       "    \n",
       "        <tr>\n",
       "            \n",
       "                <th><span>Unexpected Value</span></th>\n",
       "            \n",
       "                <th><span>Count</span></th>\n",
       "            \n",
       "        </tr>\n",
       "    \n",
       "\n",
       "    <tr>\n",
       "        <td id=\"content-block-1-cell-1-1\" ><div class=\"show-scrollbars\">62.6</div></td><td id=\"content-block-1-cell-1-2\" ><div class=\"show-scrollbars\">1</div></td></tr><tr>\n",
       "        <td id=\"content-block-1-cell-2-1\" ><div class=\"show-scrollbars\">63.7</div></td><td id=\"content-block-1-cell-2-2\" ><div class=\"show-scrollbars\">1</div></td></tr><tr>\n",
       "        <td id=\"content-block-1-cell-3-1\" ><div class=\"show-scrollbars\">66.7</div></td><td id=\"content-block-1-cell-3-2\" ><div class=\"show-scrollbars\">1</div></td></tr><tr>\n",
       "        <td id=\"content-block-1-cell-4-1\" ><div class=\"show-scrollbars\">73.4</div></td><td id=\"content-block-1-cell-4-2\" ><div class=\"show-scrollbars\">1</div></td></tr><tr>\n",
       "        <td id=\"content-block-1-cell-5-1\" ><div class=\"show-scrollbars\">74.6</div></td><td id=\"content-block-1-cell-5-2\" ><div class=\"show-scrollbars\">1</div></td></tr><tr>\n",
       "        <td id=\"content-block-1-cell-6-1\" ><div class=\"show-scrollbars\">79.2</div></td><td id=\"content-block-1-cell-6-2\" ><div class=\"show-scrollbars\">1</div></td></tr><tr>\n",
       "        <td id=\"content-block-1-cell-7-1\" ><div class=\"show-scrollbars\">81.0</div></td><td id=\"content-block-1-cell-7-2\" ><div class=\"show-scrollbars\">1</div></td></tr><tr>\n",
       "        <td id=\"content-block-1-cell-8-1\" ><div class=\"show-scrollbars\">85.2</div></td><td id=\"content-block-1-cell-8-2\" ><div class=\"show-scrollbars\">1</div></td></tr><tr>\n",
       "        <td id=\"content-block-1-cell-9-1\" ><div class=\"show-scrollbars\">85.8</div></td><td id=\"content-block-1-cell-9-2\" ><div class=\"show-scrollbars\">1</div></td></tr><tr>\n",
       "        <td id=\"content-block-1-cell-10-1\" ><div class=\"show-scrollbars\">87.3</div></td><td id=\"content-block-1-cell-10-2\" ><div class=\"show-scrollbars\">1</div></td></tr><tr>\n",
       "        <td id=\"content-block-1-cell-11-1\" ><div class=\"show-scrollbars\">88.1</div></td><td id=\"content-block-1-cell-11-2\" ><div class=\"show-scrollbars\">1</div></td></tr><tr>\n",
       "        <td id=\"content-block-1-cell-12-1\" ><div class=\"show-scrollbars\">92.1</div></td><td id=\"content-block-1-cell-12-2\" ><div class=\"show-scrollbars\">1</div></td></tr><tr>\n",
       "        <td id=\"content-block-1-cell-13-1\" ><div class=\"show-scrollbars\">94.0</div></td><td id=\"content-block-1-cell-13-2\" ><div class=\"show-scrollbars\">1</div></td></tr><tr>\n",
       "        <td id=\"content-block-1-cell-14-1\" ><div class=\"show-scrollbars\">94.8</div></td><td id=\"content-block-1-cell-14-2\" ><div class=\"show-scrollbars\">1</div></td></tr><tr>\n",
       "        <td id=\"content-block-1-cell-15-1\" ><div class=\"show-scrollbars\">96.8</div></td><td id=\"content-block-1-cell-15-2\" ><div class=\"show-scrollbars\">1</div></td></tr><tr>\n",
       "        <td id=\"content-block-1-cell-16-1\" ><div class=\"show-scrollbars\">98.6</div></td><td id=\"content-block-1-cell-16-2\" ><div class=\"show-scrollbars\">1</div></td></tr></table></div></td><td id=\"content-block-1-cell-3-3\" ><div class=\"show-scrollbars\"><span>≈35.556% unexpected</span></div></td></tr><tr>\n",
       "        <td id=\"content-block-1-cell-4-1\" ><div class=\"show-scrollbars\">\n",
       "                <span >\n",
       "                    <i class=\"fas fa-times text-danger\" ></i>\n",
       "                </span>\n",
       "            </div></td><td id=\"content-block-1-cell-4-2\" ><div class=\"show-scrollbars\">\n",
       "                <span >\n",
       "                    <span class=\"badge badge-primary\" >exit_velocity</span> minimum value must be between <span class=\"badge badge-secondary\" >25.4</span> and <span class=\"badge badge-secondary\" >60.8</span>.\n",
       "                </span>\n",
       "            </div></td><td id=\"content-block-1-cell-4-3\" ><div class=\"show-scrollbars\"><span>62.6</span></div></td></tr><tr>\n",
       "        <td id=\"content-block-1-cell-5-1\" ><div class=\"show-scrollbars\">\n",
       "                <span >\n",
       "                    <i class=\"fas fa-times text-danger\" ></i>\n",
       "                </span>\n",
       "            </div></td><td id=\"content-block-1-cell-5-2\" ><div class=\"show-scrollbars\">\n",
       "                <span >\n",
       "                    <span class=\"badge badge-primary\" >exit_velocity</span> mean must be between <span class=\"badge badge-secondary\" >73.21153846153847</span> and <span class=\"badge badge-secondary\" >78.56206896551724</span>.\n",
       "                </span>\n",
       "            </div></td><td id=\"content-block-1-cell-5-3\" ><div class=\"show-scrollbars\"><span>≈81.16071429</span></div></td></tr><tr>\n",
       "        <td id=\"content-block-1-cell-6-1\" ><div class=\"show-scrollbars\">\n",
       "                <span >\n",
       "                    <i class=\"fas fa-times text-danger\" ></i>\n",
       "                </span>\n",
       "            </div></td><td id=\"content-block-1-cell-6-2\" ><div class=\"show-scrollbars\">\n",
       "                <span >\n",
       "                    <span class=\"badge badge-primary\" >exit_velocity</span> median must be between <span class=\"badge badge-secondary\" >73.6</span> and <span class=\"badge badge-secondary\" >77.4</span>.\n",
       "                </span>\n",
       "            </div></td><td id=\"content-block-1-cell-6-3\" ><div class=\"show-scrollbars\"><span>79.25</span></div></td></tr><tr>\n",
       "        <td id=\"content-block-1-cell-7-1\" ><div class=\"show-scrollbars\">\n",
       "                <span >\n",
       "                    <i class=\"fas fa-times text-danger\" ></i>\n",
       "                </span>\n",
       "            </div></td><td id=\"content-block-1-cell-7-2\" ><div class=\"show-scrollbars\">\n",
       "                <span >\n",
       "                    <span class=\"badge badge-primary\" >predicted_zone</span> values must belong to this set: <span class=\"badge badge-secondary\" >1</span> <span class=\"badge badge-secondary\" >2</span> <span class=\"badge badge-secondary\" >3</span> <span class=\"badge badge-secondary\" >4</span> <span class=\"badge badge-secondary\" >5</span>.\n",
       "                </span>\n",
       "            \n",
       "                <strong class=\"text-danger\" >\n",
       "                    <br><br>1 unexpected values found. ≈2.222% of 45 total rows.\n",
       "                </strong>\n",
       "            \n",
       "\n",
       "<table id=\"content-block-1-body\" class=\"table-bordered table-sm mt-3\" >\n",
       "    \n",
       "        <tr>\n",
       "            \n",
       "                <th><span>Unexpected Value</span></th>\n",
       "            \n",
       "                <th><span>Count</span></th>\n",
       "            \n",
       "        </tr>\n",
       "    \n",
       "\n",
       "    <tr>\n",
       "        <td id=\"content-block-1-cell-1-1\" ><div class=\"show-scrollbars\">7</div></td><td id=\"content-block-1-cell-1-2\" ><div class=\"show-scrollbars\">1</div></td></tr></table></div></td><td id=\"content-block-1-cell-7-3\" ><div class=\"show-scrollbars\"><span>≈2.2222% unexpected</span></div></td></tr><tr>\n",
       "        <td id=\"content-block-1-cell-8-1\" ><div class=\"show-scrollbars\">\n",
       "                <span >\n",
       "                    <i class=\"fas fa-times text-danger\" ></i>\n",
       "                </span>\n",
       "            </div></td><td id=\"content-block-1-cell-8-2\" ><div class=\"show-scrollbars\">\n",
       "                <span >\n",
       "                    <span class=\"badge badge-primary\" >camera_zone</span> must have between <span class=\"badge badge-secondary\" >2</span> and <span class=\"badge badge-secondary\" >5</span> unique values.\n",
       "                </span>\n",
       "            </div></td><td id=\"content-block-1-cell-8-3\" ><div class=\"show-scrollbars\"><span>6</span></div></td></tr><tr>\n",
       "        <td id=\"content-block-1-cell-9-1\" ><div class=\"show-scrollbars\">\n",
       "                <span >\n",
       "                    <i class=\"fas fa-times text-danger\" ></i>\n",
       "                </span>\n",
       "            </div></td><td id=\"content-block-1-cell-9-2\" ><div class=\"show-scrollbars\">\n",
       "                <span >\n",
       "                    <span class=\"badge badge-primary\" >used_zone</span> values must belong to this set: <span class=\"badge badge-secondary\" >1</span> <span class=\"badge badge-secondary\" >2</span> <span class=\"badge badge-secondary\" >3</span> <span class=\"badge badge-secondary\" >4</span> <span class=\"badge badge-secondary\" >5</span>.\n",
       "                </span>\n",
       "            \n",
       "                <strong class=\"text-danger\" >\n",
       "                    <br><br>1 unexpected values found. ≈2.222% of 45 total rows.\n",
       "                </strong>\n",
       "            \n",
       "\n",
       "<table id=\"content-block-1-body\" class=\"table-bordered table-sm mt-3\" >\n",
       "    \n",
       "        <tr>\n",
       "            \n",
       "                <th><span>Unexpected Value</span></th>\n",
       "            \n",
       "                <th><span>Count</span></th>\n",
       "            \n",
       "        </tr>\n",
       "    \n",
       "\n",
       "    <tr>\n",
       "        <td id=\"content-block-1-cell-1-1\" ><div class=\"show-scrollbars\">7</div></td><td id=\"content-block-1-cell-1-2\" ><div class=\"show-scrollbars\">1</div></td></tr></table></div></td><td id=\"content-block-1-cell-9-3\" ><div class=\"show-scrollbars\"><span>≈2.2222% unexpected</span></div></td></tr></table>\n",
       "\n",
       "</div>\n",
       "        \n",
       "    </div>\n",
       "</div>"
      ],
      "text/plain": [
       "<IPython.core.display.HTML object>"
      ]
     },
     "metadata": {},
     "output_type": "display_data"
    }
   ],
   "source": [
    "# Validate expectations again. This time, show only the failing expectations.\n",
    "\n",
    "new_validation_results = new_batch.validate(result_format=\"SUMMARY\")\n",
    "\n",
    "display_evrs_as_section(\n",
    "    new_validation_results,\n",
    "    only_include_failed_evrs=True,\n",
    "    include_styling=True\n",
    ")"
   ]
  },
  {
   "cell_type": "code",
   "execution_count": 17,
   "metadata": {
    "collapsed": true,
    "jupyter": {
     "outputs_hidden": true
    }
   },
   "outputs": [
    {
     "data": {
      "text/plain": [
       "{\n",
       "  \"exception_info\": null,\n",
       "  \"success\": true,\n",
       "  \"meta\": {},\n",
       "  \"result\": {\n",
       "    \"element_count\": 45,\n",
       "    \"missing_count\": 0,\n",
       "    \"missing_percent\": 0.0,\n",
       "    \"unexpected_count\": 0,\n",
       "    \"unexpected_percent\": 0.0,\n",
       "    \"unexpected_percent_nonmissing\": 0.0,\n",
       "    \"partial_unexpected_list\": []\n",
       "  }\n",
       "}"
      ]
     },
     "execution_count": 17,
     "metadata": {},
     "output_type": "execute_result"
    }
   ],
   "source": [
    "# Edit two expectations to make them more inclusive\n",
    "\n",
    "new_batch.expect_column_values_to_be_in_set(\"used_zone\", [1,2,3,4,5,6,7])\n",
    "new_batch.expect_column_values_to_be_in_set(\"predicted_zone\", [1,2,3,4,5,6,7])"
   ]
  },
  {
   "cell_type": "code",
   "execution_count": 18,
   "metadata": {
    "collapsed": true,
    "jupyter": {
     "outputs_hidden": true
    }
   },
   "outputs": [],
   "source": [
    "# Drop one expectation that we don't want\n",
    "\n",
    "new_batch.remove_expectation(expectation_type=\"expect_column_values_to_be_in_set\", column=\"exit_velocity\")"
   ]
  },
  {
   "cell_type": "code",
   "execution_count": 19,
   "metadata": {
    "collapsed": true,
    "jupyter": {
     "outputs_hidden": true
    }
   },
   "outputs": [
    {
     "data": {
      "text/plain": [
       "{\n",
       "  \"exception_info\": null,\n",
       "  \"success\": true,\n",
       "  \"meta\": {},\n",
       "  \"result\": {\n",
       "    \"element_count\": 45,\n",
       "    \"missing_count\": 0,\n",
       "    \"missing_percent\": 0.0,\n",
       "    \"unexpected_count\": 0,\n",
       "    \"unexpected_percent\": 0.0,\n",
       "    \"unexpected_percent_nonmissing\": 0.0,\n",
       "    \"partial_unexpected_list\": []\n",
       "  }\n",
       "}"
      ]
     },
     "execution_count": 19,
     "metadata": {},
     "output_type": "execute_result"
    }
   ],
   "source": [
    "# Add a value to another expectation that was too limiting\n",
    "\n",
    "prev_expectation = new_batch.find_expectations(\n",
    "    expectation_type=\"expect_column_values_to_be_in_set\",\n",
    "    column=\"game_date\",\n",
    ")[0]\n",
    "new_batch.expect_column_values_to_be_in_set(\n",
    "    \"game_date\",\n",
    "    value_set=prev_expectation[\"kwargs\"][\"value_set\"]+[\"2019-05-18\"]\n",
    ")"
   ]
  },
  {
   "cell_type": "code",
   "execution_count": 20,
   "metadata": {
    "collapsed": true,
    "jupyter": {
     "outputs_hidden": true
    }
   },
   "outputs": [
    {
     "data": {
      "text/plain": [
       "{\n",
       "  \"exception_info\": null,\n",
       "  \"success\": true,\n",
       "  \"meta\": {},\n",
       "  \"result\": {\n",
       "    \"element_count\": 45,\n",
       "    \"missing_count\": 0,\n",
       "    \"missing_percent\": 0.0,\n",
       "    \"unexpected_count\": 0,\n",
       "    \"unexpected_percent\": 0.0,\n",
       "    \"unexpected_percent_nonmissing\": 0.0,\n",
       "    \"partial_unexpected_list\": []\n",
       "  }\n",
       "}"
      ]
     },
     "execution_count": 20,
     "metadata": {},
     "output_type": "execute_result"
    }
   ],
   "source": [
    "#...and again\n",
    "\n",
    "prev_expectation = new_batch.find_expectations(\n",
    "    expectation_type=\"expect_column_values_to_be_in_set\",\n",
    "    column=\"matchup\",\n",
    ")[0]\n",
    "new_batch.expect_column_values_to_be_in_set(\n",
    "    \"matchup\",\n",
    "    value_set=prev_expectation[\"kwargs\"][\"value_set\"]+[\"Seattle Mariners VS Minnesota Twins\"]\n",
    ")"
   ]
  },
  {
   "cell_type": "code",
   "execution_count": 21,
   "metadata": {
    "collapsed": true,
    "jupyter": {
     "outputs_hidden": true
    }
   },
   "outputs": [],
   "source": [
    "# Validate the rest of the datasets\n",
    "full_validation_result_list = [ge.validate(dataset, profiled_expectation_suite) for dataset in dataset_list]"
   ]
  },
  {
   "cell_type": "code",
   "execution_count": 22,
   "metadata": {
    "collapsed": true,
    "jupyter": {
     "outputs_hidden": true
    }
   },
   "outputs": [
    {
     "data": {
      "image/png": "[encoded data removed]",
      "text/plain": [
       "<Figure size 1008x288 with 1 Axes>"
      ]
     },
     "metadata": {
      "needs_background": "light"
     },
     "output_type": "display_data"
    }
   ],
   "source": [
    "# Generate a graph so that we can figure out what's going on with another one of the broken Expectations\n",
    "\n",
    "display_expectation_validation_metric_plot(\n",
    "    full_validation_result_list,\n",
    "    expectation_type=\"expect_column_values_to_not_be_null\",\n",
    "    column=\"exit_velocity\",\n",
    ")"
   ]
  },
  {
   "cell_type": "code",
   "execution_count": 23,
   "metadata": {
    "collapsed": true,
    "jupyter": {
     "outputs_hidden": true
    }
   },
   "outputs": [
    {
     "data": {
      "image/png": "[encoded data removed]",
      "text/plain": [
       "<Figure size 1008x288 with 1 Axes>"
      ]
     },
     "metadata": {
      "needs_background": "light"
     },
     "output_type": "display_data"
    }
   ],
   "source": [
    "# Generate a graph so that we can figure out what's going on with one of the broken Expectations\n",
    "\n",
    "display_expectation_validation_metric_plot(\n",
    "    full_validation_result_list,\n",
    "    expectation_type=\"expect_column_mean_to_be_between\",\n",
    "    column=\"exit_velocity\",\n",
    ")"
   ]
  },
  {
   "cell_type": "code",
   "execution_count": null,
   "metadata": {
    "collapsed": true,
    "jupyter": {
     "outputs_hidden": true
    }
   },
   "outputs": [],
   "source": []
  }
 ],
 "metadata": {
  "kernelspec": {
   "display_name": "Python 3",
   "language": "python",
   "name": "python3"
  },
  "language_info": {
   "codemirror_mode": {
    "name": "ipython",
    "version": 3
   },
   "file_extension": ".py",
   "mimetype": "text/x-python",
   "name": "python",
   "nbconvert_exporter": "python",
   "pygments_lexer": "ipython3",
   "version": "3.7.4"
  }
 },
 "nbformat": 4,
 "nbformat_minor": 4
}
